{
 "cells": [
  {
   "cell_type": "code",
   "execution_count": null,
   "id": "6f48c905-82ce-4bd6-82b1-95030117ab18",
   "metadata": {},
   "outputs": [
    {
     "name": "stdout",
     "output_type": "stream",
     "text": [
      "Output saved to supermarket_analysis_output.csv\n"
     ]
    },
    {
     "name": "stderr",
     "output_type": "stream",
     "text": [
      "C:\\Users\\lasya\\AppData\\Local\\Temp\\ipykernel_13236\\3323631901.py:43: FutureWarning: Downcasting behavior in `replace` is deprecated and will be removed in a future version. To retain the old behavior, explicitly call `result.infer_objects(copy=False)`. To opt-in to the future behavior, set `pd.set_option('future.no_silent_downcasting', True)`\n",
      "  df.replace(\"-\", 0, inplace=True)  # Replace \"-\" with 0\n"
     ]
    }
   ],
   "source": [
    "import pandas as pd\n",
    "\n",
    "def load_and_clean_data(file_path):\n",
    "    df = pd.read_csv(file_path).drop_duplicates()\n",
    "    df['Date'] = pd.to_datetime(df['Date'], errors='coerce')\n",
    "    df['Time'] = pd.to_datetime(df['Time'], format='%H:%M').dt.strftime('%I:%M %p')\n",
    "    df = df.sort_values(by=\"Branch\")\n",
    "    df[\"Profit Percentage\"] = (df[\"gross income\"] / df[\"cogs\"]) * 100\n",
    "    df[\"Total Price\"] = df[\"Unit price\"] * df[\"Quantity\"]\n",
    "    \n",
    "    # Drop columns except 'Product line' which is needed for pivoting\n",
    "    df = df.drop(columns=[\"cogs\", \"gross margin percentage\", \"Unit price\", \"Quantity\", \"Tax 5%\", \"gross income\", \"Payment\"])\n",
    "    \n",
    "    return df\n",
    "\n",
    "def pivot_product_prices(df):\n",
    "    if \"Product line\" not in df.columns:\n",
    "        raise KeyError(\"Product line column is missing!\")\n",
    "    \n",
    "    df_pivot = df.pivot_table(index=\"Invoice ID\", columns=\"Product line\", values=\"Total Price\", aggfunc=\"sum\")\n",
    "    df_pivot.columns = [f\"Price of {col}\" for col in df_pivot.columns]\n",
    "    \n",
    "    return df_pivot.reset_index()\n",
    "\n",
    "def main():\n",
    "    file_path = r\"C:\\Users\\lasya\\Projects\\supermarket\\raw data.csv\"\n",
    "    df = load_and_clean_data(file_path)\n",
    "    df_pivot = pivot_product_prices(df)\n",
    "    \n",
    "    # Drop 'Product line' after pivoting\n",
    "    df = df.drop(columns=[\"Product line\"])\n",
    "    \n",
    "    df = df.merge(df_pivot, on=\"Invoice ID\", how=\"left\").fillna(\"-\")\n",
    "\n",
    "    columns_order = [\"Invoice ID\", \"Branch\", \"City\", \"Customer type\", \"Gender\", \"Date\", \"Time\"] + \\\n",
    "                    [col for col in df.columns if col.startswith(\"Price of\")] + [\"Profit Percentage\", \"Rating\"]\n",
    "    df = df[columns_order]\n",
    "    return df\n",
    "\n",
    "if __name__ == \"__main__\":\n",
    "    df = main()\n",
    "\n",
    "    df.replace(\"-\", 0, inplace=True)  # Replace \"-\" with 0\n",
    "    numeric_cols = [col for col in df.columns if col.startswith(\"Price of\")]\n",
    "    \n",
    "    \n",
    "    df[numeric_cols] = df[numeric_cols].apply(pd.to_numeric)  # Convert to numeric\n",
    "\n",
    "# Sum sales for each product category per branch\n",
    "    sales_per_branch = df.groupby(\"Branch\")[numeric_cols].sum()\n",
    "\n",
    "# Identify the most sold product per branch\n",
    "    most_sold_product_per_branch = sales_per_branch.idxmax(axis=1)\n",
    "\n",
    "# Calculate total profit per branch\n",
    "    df[\"Total Profit\"] = df[numeric_cols].sum(axis=1) * (df[\"Profit Percentage\"] / 100)\n",
    "    total_profit_per_branch = df.groupby(\"Branch\")[\"Total Profit\"].sum()\n",
    "    \n",
    "    \n",
    "    output_file = \"supermarket_analysis_output.csv\"\n",
    "\n",
    "# Combine the data into one DataFrame\n",
    "    output_df = sales_per_branch.copy()  # Start with the sales data\n",
    "    output_df[\"Most Sold Product\"] = most_sold_product_per_branch  # Add most sold product column\n",
    "    output_df[\"Total Profit\"] = total_profit_per_branch  # Add total profit column\n",
    "\n",
    "# Save to CSV\n",
    "    output_df.to_csv(output_file)\n",
    "\n",
    "    print(f\"Output saved to {output_file}\")"
   ]
  },
  {
   "cell_type": "code",
   "execution_count": null,
   "id": "6c02963f-d045-4a31-ac6c-998344977466",
   "metadata": {},
   "outputs": [],
   "source": []
  }
 ],
 "metadata": {
  "kernelspec": {
   "display_name": "base",
   "language": "python",
   "name": "python3"
  },
  "language_info": {
   "codemirror_mode": {
    "name": "ipython",
    "version": 3
   },
   "file_extension": ".py",
   "mimetype": "text/x-python",
   "name": "python",
   "nbconvert_exporter": "python",
   "pygments_lexer": "ipython3",
   "version": "3.12.7"
  }
 },
 "nbformat": 4,
 "nbformat_minor": 5
}
